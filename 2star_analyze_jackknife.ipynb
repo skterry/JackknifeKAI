{
 "cells": [
  {
   "cell_type": "code",
   "execution_count": 1,
   "metadata": {},
   "outputs": [],
   "source": [
    "import os\n",
    "import fnmatch\n",
    "import numpy as np\n",
    "import glob\n",
    "import pandas as pd\n",
    "import matplotlib.pyplot as plt\n",
    "import pdb"
   ]
  },
  {
   "cell_type": "code",
   "execution_count": 2,
   "metadata": {},
   "outputs": [],
   "source": [
    "#Generally, star 1 should be the brighter star.\n",
    "id_star1 = 830\n",
    "id_star2 = 1864\n",
    "#id_star3 = 3665 #Optional 3rd(blend) star\n",
    "jack_img_num = 24\n",
    "dt = 9.9204 #follow-up obs = 2021jul14"
   ]
  },
  {
   "cell_type": "code",
   "execution_count": 3,
   "metadata": {},
   "outputs": [
    {
     "name": "stdout",
     "output_type": "stream",
     "text": [
      "23\n"
     ]
    }
   ],
   "source": [
    "data_dict = {}\n",
    "star1_list = []\n",
    "star2_list = []\n",
    "star3_list = []\n",
    "jackknife_list = []\n",
    "\n",
    "#Loop through each jackknife *.als file.\n",
    "for i in range(jack_img_num):\n",
    "    data_dict[i] = np.loadtxt('mag_OB110950_{0}_kp_tdOpen.als'.format(i+1), skiprows=3)\n",
    "    for j in data_dict[i]:\n",
    "        if j[0] == id_star1:\n",
    "            star1_list.append(j[0:5])\n",
    "    for j in data_dict[i]:\n",
    "        if j[0] == id_star2:\n",
    "            star2_list.append(j[0:5])\n",
    "# If 3-star jackknife, uncomment loop below (and 3-star jackknife_list below):            \n",
    "#    for j in data_dict[i]:\n",
    "#        if j[0] == id_star3:\n",
    "#            star3_list.append(j[0:5])\n",
    "            \n",
    "#Stack star1 and star2 horizontally in new jackknife_list\n",
    "jackknife_list = np.hstack((star1_list, star2_list))\n",
    "np.savetxt('jackknife_vals.dat', jackknife_list, fmt='%3s', header=\"id1, x1, y1, m1, me1, id2, x2, y2, m2, me2\")\n",
    "#-------\n",
    "#print(len(star2_list))\n",
    "#print(star2_list)\n",
    "\n",
    "#star2_list = np.delete(star2_list, (6), axis=0)\n",
    "#print(len(star2_list))\n",
    "#print(star2_list)\n",
    "#3-star jackknife list below here:\n",
    "#jackknife_list = np.hstack((star1_list, star2_list, star3_list))\n",
    "#np.savetxt('jackknife_vals.dat', jackknife_list, fmt='%3s', header=\"id1, x1, y1, m1, me1, id2, x2, y2, m2, me2, id3, x3, y3, m3, me3\")\n",
    "\n",
    "#print(len(jackknife_list))\n",
    "\n",
    "jackknife_list = np.delete(jackknife_list, (8), axis=0) #remove outlier (optional).\n",
    "jack_img_num = 23\n",
    "print(len(jackknife_list))"
   ]
  },
  {
   "cell_type": "code",
   "execution_count": 4,
   "metadata": {},
   "outputs": [],
   "source": [
    "#Calculate means and uncertainties for x,y,m,dx,dy,dm via Equation 3 in Bhattacharya et al. 2021.\n",
    "\n",
    "x1bar = np.mean(jackknife_list[:,1])\n",
    "y1bar = np.mean(jackknife_list[:,2])\n",
    "m1bar = np.mean(jackknife_list[:,3])\n",
    "\n",
    "x2bar = np.mean(jackknife_list[:,6])\n",
    "y2bar = np.mean(jackknife_list[:,7])\n",
    "m2bar = np.mean(jackknife_list[:,8])\n",
    "\n",
    "x1err = np.sqrt(((jack_img_num - 1)/(jack_img_num))*np.sum((jackknife_list[:, 1] - x1bar)**2))\n",
    "y1err = np.sqrt(((jack_img_num - 1)/(jack_img_num))*np.sum((jackknife_list[:, 2] - y1bar)**2))\n",
    "m1err = np.sqrt(((jack_img_num - 1)/(jack_img_num))*np.sum((jackknife_list[:, 3] - m1bar)**2))\n",
    "\n",
    "x2err = np.sqrt(((jack_img_num - 1)/(jack_img_num))*np.sum((jackknife_list[:, 6] - x2bar)**2))\n",
    "y2err = np.sqrt(((jack_img_num - 1)/(jack_img_num))*np.sum((jackknife_list[:, 7] - y2bar)**2))\n",
    "m2err = np.sqrt(((jack_img_num - 1)/(jack_img_num))*np.sum((jackknife_list[:, 8] - m2bar)**2))\n",
    "\n",
    "#-------------\n",
    "#Star 1-2 jackknife calc\n",
    "#-------------\n",
    "dx12 = (jackknife_list[:, 1] - jackknife_list[:, 6])\n",
    "dy12 = (jackknife_list[:, 2] - jackknife_list[:, 7])\n",
    "dm12 = (jackknife_list[:, 8] - jackknife_list[:, 3])\n",
    "mtot12 = -2.5*np.log10(((10**(-0.4*jackknife_list[:, 3]))+(10**(-0.4*jackknife_list[:, 8]))))\n",
    "fratio12 = (10**(-0.4*jackknife_list[:, 8])/(10**(-0.4*jackknife_list[:, 3])))\n",
    "\n",
    "dxbar12 = np.mean((jackknife_list[:, 1] - jackknife_list[:, 6]))\n",
    "dybar12 = np.mean((jackknife_list[:, 2] - jackknife_list[:, 7]))\n",
    "dmbar12 = np.mean((jackknife_list[:, 8] - jackknife_list[:, 3]))\n",
    "mtotbar12 = np.mean(-2.5*np.log10(((10**(-0.4*jackknife_list[:, 3]))+(10**(-0.4*jackknife_list[:, 8])))))\n",
    "fratiobar12 = np.mean((10**(-0.4*jackknife_list[:, 8])/(10**(-0.4*jackknife_list[:, 3]))))"
   ]
  },
  {
   "cell_type": "code",
   "execution_count": 5,
   "metadata": {},
   "outputs": [],
   "source": [
    "dxerr12 = np.sqrt(((jack_img_num - 1)/(jack_img_num))*np.sum((dx12 - dxbar12)**2))\n",
    "dyerr12 = np.sqrt(((jack_img_num - 1)/(jack_img_num))*np.sum((dy12 - dybar12)**2))\n",
    "dmerr12 = np.sqrt(((jack_img_num - 1)/(jack_img_num))*np.sum((dm12 - dmbar12)**2))\n",
    "mtoterr12 = np.sqrt(((jack_img_num - 1)/(jack_img_num))*np.sum((mtot12 - mtotbar12)**2))\n",
    "fratioerr12 = np.sqrt(((jack_img_num - 1)/(jack_img_num))*np.sum((fratio12 - fratiobar12)**2))\n"
   ]
  },
  {
   "cell_type": "code",
   "execution_count": 6,
   "metadata": {},
   "outputs": [
    {
     "name": "stdout",
     "output_type": "stream",
     "text": [
      "#POSITIONS & MAGNITUDES:\n",
      "\n",
      "x1 = 1105.789 +- 0.1329530809688533 pix\n",
      "y1 = 1065.964 +- 0.027489128285875557 pix\n",
      "m1= 12.877304347826088 +- 0.016794318960242884\n",
      "-------------------------\n",
      "x2 = 1104.1144347826087 +- 0.1407928400825787 pix\n",
      "y2 = 1062.0667391304348 +- 0.03793447738761512 pix\n",
      "m2= 13.109739130434786 +- 0.019717091699944254\n",
      "-------------------------\n",
      "\n",
      "#SEPARATIONS & FLUX RATIOS:\n",
      "\n",
      "dx = x1 - x2 = 1.6745652173913186 +- 0.02765654873780154 pix\n",
      "dy = y1 - y2 = 3.897260869565215 +- 0.03946686294002224 pix\n",
      "#-------------------------\n",
      "mu_rel,HE = 1.6782113010871023 +- 0.027716766214187224 mas/yr\n",
      "mu_rel,HN = 3.9057464986509984 +- 0.039552795386244614 mas/yr\n",
      "mu_rel,H = 4.2510291557246465 +- 0.04829744043153885 mas/yr\n",
      "#-------------------------\n",
      "dm = m1 - m2 = 0.23243478260869574 +- 0.021149928385208416\n",
      "m_total = 12.234736312480265 +- 0.014795878401513305\n",
      "flux ratio = f1 / f2 = 0.8072904784690472 +- 0.015712553626090857\n",
      "#-------------------------\n"
     ]
    }
   ],
   "source": [
    "#Print results\n",
    "print(\"#POSITIONS & MAGNITUDES:\")\n",
    "print(\"\")\n",
    "print(\"x1 =\", x1bar, \"+-\", x1err, \"pix\")\n",
    "print(\"y1 =\", y1bar, \"+-\", y1err, \"pix\")\n",
    "print(\"m1=\", m1bar, \"+-\", m1err)\n",
    "print(\"-------------------------\")\n",
    "print(\"x2 =\", x2bar, \"+-\", x2err, \"pix\")\n",
    "print(\"y2 =\", y2bar, \"+-\", y2err, \"pix\")\n",
    "print(\"m2=\", m2bar, \"+-\", m2err)\n",
    "print(\"-------------------------\")\n",
    "print(\"\")\n",
    "print(\"#SEPARATIONS & FLUX RATIOS:\")\n",
    "print(\"\")\n",
    "print(\"dx = x1 - x2 =\", dxbar12, \"+-\", dxerr12, \"pix\")\n",
    "print(\"dy = y1 - y2 =\", dybar12, \"+-\", dyerr12, \"pix\")\n",
    "print(\"#-------------------------\")\n",
    "print(\"mu_rel,HE =\", (dxbar12*9.942)/dt, \"+-\", (dxerr12*9.942)/dt, \"mas/yr\")\n",
    "print(\"mu_rel,HN =\", (dybar12*9.942)/dt, \"+-\", (dyerr12*9.942)/dt, \"mas/yr\")\n",
    "print(\"mu_rel,H =\", np.sqrt((dxbar12)**2 + (dybar12)**2)*9.942/dt, \"+-\", np.sqrt((dxerr12)**2 + (dyerr12)**2)*9.942/dt, \"mas/yr\")\n",
    "print(\"#-------------------------\")\n",
    "print(\"dm = m1 - m2 =\", dmbar12, \"+-\", dmerr12)\n",
    "print(\"m_total =\", mtotbar12, \"+-\", mtoterr12)\n",
    "print(\"flux ratio = f1 / f2 =\", fratiobar12, \"+-\", fratioerr12)\n",
    "print(\"#-------------------------\")"
   ]
  },
  {
   "cell_type": "code",
   "execution_count": 7,
   "metadata": {},
   "outputs": [
    {
     "data": {
      "image/png": "[encoded data removed]",
      "text/plain": [
       "<Figure size 576x576 with 1 Axes>"
      ]
     },
     "metadata": {
      "needs_background": "light"
     },
     "output_type": "display_data"
    }
   ],
   "source": [
    "#Plot Results\n",
    "fig = plt.subplots(figsize=(8,8))\n",
    "plt.errorbar(x1bar,y1bar,xerr=x1err,yerr=y1err)\n",
    "plt.errorbar(x2bar,y2bar,xerr=x2err,yerr=y2err)\n",
    "\n",
    "#plt.xlim(1140,1180)\n",
    "#plt.ylim(1240,1245)\n",
    "plt.xlabel('X [pix]', fontsize=18)\n",
    "plt.ylabel('Y [pix]', fontsize=18)\n",
    "plt.tick_params(which='both', length=8, width=1, labelsize=15, direction='in', right=True, top=True)\n",
    "\n",
    "plt.show()"
   ]
  },
  {
   "cell_type": "code",
   "execution_count": null,
   "metadata": {},
   "outputs": [],
   "source": []
  }
 ],
 "metadata": {
  "kernelspec": {
   "display_name": "Python 3",
   "language": "python",
   "name": "python3"
  },
  "language_info": {
   "codemirror_mode": {
    "name": "ipython",
    "version": 3
   },
   "file_extension": ".py",
   "mimetype": "text/x-python",
   "name": "python",
   "nbconvert_exporter": "python",
   "pygments_lexer": "ipython3",
   "version": "3.8.5"
  }
 },
 "nbformat": 4,
 "nbformat_minor": 4
}
